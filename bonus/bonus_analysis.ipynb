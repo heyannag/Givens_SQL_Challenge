{
 "cells": [
  {
   "cell_type": "code",
   "execution_count": 16,
   "metadata": {},
   "outputs": [],
   "source": [
    "# PostgreSQL and Pandas"
   ]
  },
  {
   "cell_type": "code",
   "execution_count": 17,
   "metadata": {},
   "outputs": [],
   "source": [
    "# Histogram to visualize the most common salary ranges for employees"
   ]
  },
  {
   "cell_type": "code",
   "execution_count": 18,
   "metadata": {},
   "outputs": [],
   "source": [
    "# Bar Chart of Average Salary By Title"
   ]
  },
  {
   "cell_type": "code",
   "execution_count": 19,
   "metadata": {},
   "outputs": [],
   "source": [
    "#Import Dependencies\n",
    "import pandas as pd\n",
    "import matplotlib.pyplot as plt\n",
    "import numpy as np\n",
    "import os\n",
    "import psycopg2\n",
    "from sqlalchemy import create_engine"
   ]
  },
  {
   "cell_type": "code",
   "execution_count": 20,
   "metadata": {},
   "outputs": [],
   "source": [
    "#File paths\n",
    "file_path=os.path.join(\"\",\"Charts/\")"
   ]
  },
  {
   "cell_type": "code",
   "execution_count": 21,
   "metadata": {},
   "outputs": [],
   "source": [
    "#Environment Varibale:  Postgres db host,ID,password and db name info is stored as environment variables.\n",
    "#Environment variables are loaded as a part of Jupyter session"
   ]
  },
  {
   "cell_type": "code",
   "execution_count": 24,
   "metadata": {},
   "outputs": [],
   "source": [
    "import pandas as pd\n",
    "from sqlalchemy import create_engine\n",
    "import matplotlib.pyplot as plt\n",
    "\n",
    "\n",
    "# follows django database settings format\n",
    "DATABASES = {\n",
    "    'hp_db':{\n",
    "        'NAME': 'Givens_SQL_Challenge',\n",
    "        'USER': 'postgres',\n",
    "        'PASSWORD': 'postgres',\n",
    "        'HOST': 'localhost',\n",
    "        'PORT': 5432,\n",
    "    },\n",
    "}\n",
    "\n",
    "# choose the database to use\n",
    "db = DATABASES['hp_db']\n",
    "\n",
    "# construct an engine connection string\n",
    "engine_string = \"postgresql+psycopg2://{user}:{password}@{host}:{port}/{database}\".format(\n",
    "    user = db['USER'],\n",
    "    password = db['PASSWORD'],\n",
    "    host = db['HOST'],\n",
    "    port = db['PORT'],\n",
    "    database = db['NAME'],\n",
    ")\n",
    "\n",
    "# create sqlalchemy engine\n",
    "engine = create_engine(engine_string)\n",
    "\n",
    "# read a table from database into pandas dataframe, replace \"tablename\" with your table name\n",
    "employees = pd.read_sql_table('employees',engine)\n",
    "salaries = pd.read_sql_table('salaries',engine)\n",
    "query_ts = pd.read_sql_query(\n",
    " #   '''select t.title, avg(s.salary) \n",
    "  #      from titles as t join salaries as s \n",
    "   #        on (s.emp_no = t.emp_no)\n",
    "    #    group by t.title;''',engine)"
   ]
  },
  {
   "cell_type": "code",
   "execution_count": 25,
   "metadata": {},
   "outputs": [
    {
     "ename": "NameError",
     "evalue": "name 'salaries1' is not defined",
     "output_type": "error",
     "traceback": [
      "\u001b[0;31m---------------------------------------------------------------------------\u001b[0m",
      "\u001b[0;31mNameError\u001b[0m                                 Traceback (most recent call last)",
      "\u001b[0;32m<ipython-input-25-6d3c3220dcb1>\u001b[0m in \u001b[0;36m<module>\u001b[0;34m\u001b[0m\n\u001b[1;32m      1\u001b[0m \u001b[0mplt\u001b[0m\u001b[0;34m.\u001b[0m\u001b[0mstyle\u001b[0m\u001b[0;34m.\u001b[0m\u001b[0muse\u001b[0m\u001b[0;34m(\u001b[0m\u001b[0;34m'classic'\u001b[0m\u001b[0;34m)\u001b[0m\u001b[0;34m\u001b[0m\u001b[0;34m\u001b[0m\u001b[0m\n\u001b[0;32m----> 2\u001b[0;31m \u001b[0msalaries1\u001b[0m\u001b[0;34m[\u001b[0m\u001b[0;34m'salary'\u001b[0m\u001b[0;34m]\u001b[0m\u001b[0;34m.\u001b[0m\u001b[0mhist\u001b[0m\u001b[0;34m(\u001b[0m\u001b[0mcolor\u001b[0m \u001b[0;34m=\u001b[0m \u001b[0;34m'c'\u001b[0m\u001b[0;34m)\u001b[0m\u001b[0;34m\u001b[0m\u001b[0;34m\u001b[0m\u001b[0m\n\u001b[0m\u001b[1;32m      3\u001b[0m \u001b[0;34m\u001b[0m\u001b[0m\n\u001b[1;32m      4\u001b[0m \u001b[0mmean\u001b[0m \u001b[0;34m=\u001b[0m \u001b[0mround\u001b[0m\u001b[0;34m(\u001b[0m\u001b[0msalaries\u001b[0m\u001b[0;34m[\u001b[0m\u001b[0;34m'salary'\u001b[0m\u001b[0;34m]\u001b[0m\u001b[0;34m.\u001b[0m\u001b[0mmean\u001b[0m\u001b[0;34m(\u001b[0m\u001b[0;34m)\u001b[0m\u001b[0;34m,\u001b[0m\u001b[0;36m2\u001b[0m\u001b[0;34m)\u001b[0m\u001b[0;34m\u001b[0m\u001b[0;34m\u001b[0m\u001b[0m\n\u001b[1;32m      5\u001b[0m \u001b[0mplt\u001b[0m\u001b[0;34m.\u001b[0m\u001b[0mtitle\u001b[0m\u001b[0;34m(\u001b[0m\u001b[0;34m\"Salary Ranges for Employees.\"\u001b[0m\u001b[0;34m)\u001b[0m\u001b[0;34m\u001b[0m\u001b[0;34m\u001b[0m\u001b[0m\n",
      "\u001b[0;31mNameError\u001b[0m: name 'salaries1' is not defined"
     ]
    }
   ],
   "source": [
    "plt.style.use('classic')\n",
    "salaries1['salary'].hist(color = 'c')\n",
    "\n",
    "mean = round(salaries['salary'].mean(),2)\n",
    "plt.title(\"Salary Ranges for Employees.\")\n",
    "plt.xlabel(\"Salaries\")\n",
    "plt.ylabel(\"Count\")\n",
    "\n",
    "plt.annotate(f\"mean -> {mean}\", xy=(55000,110000),color='#483D8B')\n",
    "\n",
    "plt.axvline(salaries['salary'].mean(), color='#483D8B', linestyle='dashed', linewidth=4)\n",
    "plt.show()"
   ]
  },
  {
   "cell_type": "code",
   "execution_count": null,
   "metadata": {},
   "outputs": [],
   "source": [
    "## Create a histogram to visualize the most common salary ranges for employees.¶"
   ]
  },
  {
   "cell_type": "code",
   "execution_count": null,
   "metadata": {},
   "outputs": [],
   "source": [
    "#Get the Salary \n",
    "try:\n",
    "    salary_df = pd.read_sql_query('select * from \"Salary\" order by salary;', conn)\n",
    "except:\n",
    "    print(\"Failed to get database result for Salary table.\")"
   ]
  },
  {
   "cell_type": "code",
   "execution_count": null,
   "metadata": {},
   "outputs": [],
   "source": [
    "#Dispaly sample data\n",
    "salary_df.head(5)"
   ]
  },
  {
   "cell_type": "code",
   "execution_count": null,
   "metadata": {},
   "outputs": [],
   "source": [
    "#Let's clear format of salary column \n",
    "salary_df[\"salary\"]=salary_df[\"salary\"].str.replace(\"$\",\"\").str.replace(\",\",\"\").astype(float)\n"
   ]
  },
  {
   "cell_type": "code",
   "execution_count": null,
   "metadata": {},
   "outputs": [],
   "source": [
    "#let's determin bin size (@salary increment of 10K )\n",
    "maximumvalue =salary_df.salary.max()\n",
    "minimumvalue= salary_df.salary.min()\n",
    "numberofbins = ( (maximumvalue - minimumvalue) / 10000 )\n",
    "numberofbins"
   ]
  },
  {
   "cell_type": "code",
   "execution_count": null,
   "metadata": {},
   "outputs": [],
   "source": [
    "#Plot histogram\n",
    "ax = salary_df.hist(column='salary', bins=9, grid=True, figsize=(12,9), color='#86bf91', zorder=1, rwidth=0.95)\n",
    "plt.xlabel(\"Salary\", weight='bold', size=12)\n",
    "plt.ylabel(\"Employee Count\", weight='bold', size=12)\n",
    "plt.title(\"Most Common Salary Ranges For Employees\", weight='bold', size=15)\n",
    "\n",
    "#Save plot file\n",
    "plt.savefig(file_path +\"commonsalaryRange.png\")"
   ]
  },
  {
   "cell_type": "code",
   "execution_count": null,
   "metadata": {},
   "outputs": [],
   "source": [
    "## Create a bar chart of average salary by title"
   ]
  },
  {
   "cell_type": "code",
   "execution_count": null,
   "metadata": {},
   "outputs": [],
   "source": [
    "#Get Title salary\n",
    "try:\n",
    "    title_salary = pd.read_sql_query('SELECT salary,title FROM \"Salary\" s,\"Employee\" e,\"Title\" t \\\n",
    "                        WHERE s.emp_no=e.emp_no AND \\\n",
    "                        e.emp_title_id =t.title_id ORDER BY s.salary ASC;', conn)\n",
    "except:\n",
    "    print(\"Failed to get database result for Salary by Title query.\")"
   ]
  },
  {
   "cell_type": "code",
   "execution_count": null,
   "metadata": {},
   "outputs": [],
   "source": [
    "#Display sample data\n",
    "title_salary.head()"
   ]
  },
  {
   "cell_type": "code",
   "execution_count": null,
   "metadata": {},
   "outputs": [],
   "source": [
    "#Remove Salary format for pandas group by\n",
    "title_salary[\"salary\"]=title_salary[\"salary\"].str.replace(\"$\",\"\").str.replace(\",\",\"\").astype(float)"
   ]
  },
  {
   "cell_type": "code",
   "execution_count": null,
   "metadata": {},
   "outputs": [],
   "source": [
    "#Display sample data\n",
    "title_salary.head()"
   ]
  },
  {
   "cell_type": "code",
   "execution_count": null,
   "metadata": {},
   "outputs": [],
   "source": [
    "#Get average salary for job title\n",
    "title_salary= title_salary.groupby([\"title\"]).mean()\n",
    "\n",
    "#Reset index\n",
    "title_salary =title_salary.reset_index()\n"
   ]
  },
  {
   "cell_type": "code",
   "execution_count": null,
   "metadata": {},
   "outputs": [],
   "source": [
    "#Display sample records\n",
    "title_salary.head()"
   ]
  },
  {
   "cell_type": "code",
   "execution_count": null,
   "metadata": {},
   "outputs": [],
   "source": [
    "#Set fig size\n",
    "fig,ax = plt.subplots(figsize=(7,5), dpi=100)\n",
    "\n",
    "#Get x and y axis\n",
    "x_axis = title_salary.title\n",
    "y_axis= title_salary.salary\n",
    "\n",
    "#Set the plot with x and y axis\n",
    "plt.bar(x_axis,y_axis,color=\"#86bf91\")\n",
    "\n",
    "#Set graph legend\n",
    "plt.xlabel(\"Job Title\", weight='bold', size=12)\n",
    "plt.ylabel(\"Average Salary\", weight='bold', size=12)\n",
    "plt.title(\"Average Salary By Job Title\", weight='bold', size=15)\n",
    "plt.draw()\n",
    "\n",
    "#Save plot file\n",
    "plt.savefig(file_path +\"salaryTitle.png\")\n",
    "\n",
    "#Set x axis lable alignment\n",
    "ax.set_xticklabels(ax.get_xticklabels(), rotation=30, ha='right')"
   ]
  },
  {
   "cell_type": "code",
   "execution_count": null,
   "metadata": {},
   "outputs": [],
   "source": [
    "#Close DB connection\n",
    "try:\n",
    "    conn.close()\n",
    "except:\n",
    "    print(\"Database connection is aborted or not active\")\n",
    "else:\n",
    "    print(\"Database Connection closed successfully!\")"
   ]
  }
 ],
 "metadata": {
  "kernelspec": {
   "display_name": "Python 3",
   "language": "python",
   "name": "python3"
  },
  "language_info": {
   "codemirror_mode": {
    "name": "ipython",
    "version": 3
   },
   "file_extension": ".py",
   "mimetype": "text/x-python",
   "name": "python",
   "nbconvert_exporter": "python",
   "pygments_lexer": "ipython3",
   "version": "3.7.6"
  }
 },
 "nbformat": 4,
 "nbformat_minor": 4
}
